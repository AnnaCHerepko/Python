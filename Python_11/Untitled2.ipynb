{
  "metadata": {
    "language_info": {
      "codemirror_mode": {
        "name": "python",
        "version": 3
      },
      "file_extension": ".py",
      "mimetype": "text/x-python",
      "name": "python",
      "nbconvert_exporter": "python",
      "pygments_lexer": "ipython3",
      "version": "3.8"
    },
    "kernelspec": {
      "name": "python",
      "display_name": "Python (Pyodide)",
      "language": "python"
    }
  },
  "nbformat_minor": 4,
  "nbformat": 4,
  "cells": [
    {
      "cell_type": "code",
      "source": "from sympy import symbols, cos, sin\nimport sympy as sp\n\n# 1\nx = sp.Symbol('x')\nexpr = sin(x**2) - cos(x**2)\nexpr\n\nexpr_solve = sp.solve(expr)\nexpr_solve\n\nexpr_diff = sp.diff(expr)\nexpr_diff\n",
      "metadata": {
        "trusted": true
      },
      "execution_count": 26,
      "outputs": [
        {
          "execution_count": 26,
          "output_type": "execute_result",
          "data": {
            "text/plain": "2*x*sin(x**2) + 2*x*cos(x**2)",
            "text/latex": "$\\displaystyle 2 x \\sin{\\left(x^{2} \\right)} + 2 x \\cos{\\left(x^{2} \\right)}$"
          },
          "metadata": {}
        }
      ]
    },
    {
      "cell_type": "code",
      "source": "# 2\nrise_expr = sp.solve(expr_diff > 0)\nrise_expr",
      "metadata": {
        "trusted": true
      },
      "execution_count": 29,
      "outputs": [
        {
          "execution_count": 29,
          "output_type": "execute_result",
          "data": {
            "text/plain": "(0 < x) & (x < oo)",
            "text/latex": "$\\displaystyle 0 < x \\wedge x < \\infty$"
          },
          "metadata": {}
        }
      ]
    },
    {
      "cell_type": "code",
      "source": "# 3\nfall_expr = sp.solve(expr_diff < 0)\nfall_expr",
      "metadata": {
        "trusted": true
      },
      "execution_count": 30,
      "outputs": [
        {
          "execution_count": 30,
          "output_type": "execute_result",
          "data": {
            "text/plain": "(-oo < x) & (x < 0)",
            "text/latex": "$\\displaystyle -\\infty < x \\wedge x < 0$"
          },
          "metadata": {}
        }
      ]
    },
    {
      "cell_type": "code",
      "source": "# 4\ngraph = sp.plot(expr)",
      "metadata": {
        "trusted": true
      },
      "execution_count": null,
      "outputs": []
    },
    {
      "cell_type": "code",
      "source": "# 5 \npeak_expr = sp.solve(expr_diff)\npeak_expr",
      "metadata": {
        "trusted": true
      },
      "execution_count": null,
      "outputs": []
    },
    {
      "cell_type": "code",
      "source": "# 6\nrise_expr_origin = sp.solve(expr_diff)\nrise_expr_origin",
      "metadata": {
        "trusted": true
      },
      "execution_count": null,
      "outputs": []
    },
    {
      "cell_type": "code",
      "source": "# 7\nfall_expr_origin = sp.solve(expr_diff)\nfall_expr_origin",
      "metadata": {
        "trusted": true
      },
      "execution_count": null,
      "outputs": []
    },
    {
      "cell_type": "code",
      "source": "",
      "metadata": {},
      "execution_count": null,
      "outputs": []
    }
  ]
}